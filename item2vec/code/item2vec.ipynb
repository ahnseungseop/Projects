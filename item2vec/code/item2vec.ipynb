{
 "cells": [
  {
   "cell_type": "code",
   "execution_count": 2,
   "metadata": {},
   "outputs": [],
   "source": [
    "import pandas as pd\n",
    "import numpy as np\n",
    "import matplotlib.pyplot as plt\n",
    "import chart_studio.plotly as py\n",
    "%matplotlib inline\n",
    "import warnings \n",
    "warnings.filterwarnings(action='ignore')\n"
   ]
  },
  {
   "cell_type": "markdown",
   "metadata": {},
   "source": [
    "## 데이터 다운로드"
   ]
  },
  {
   "cell_type": "code",
   "execution_count": 3,
   "metadata": {},
   "outputs": [],
   "source": [
    "df_movies =  pd.read_csv('movies.csv')\n",
    "df_ratings = pd.read_csv('ratings.csv')"
   ]
  },
  {
   "cell_type": "code",
   "execution_count": 4,
   "metadata": {},
   "outputs": [
    {
     "data": {
      "text/html": [
       "<div>\n",
       "<style scoped>\n",
       "    .dataframe tbody tr th:only-of-type {\n",
       "        vertical-align: middle;\n",
       "    }\n",
       "\n",
       "    .dataframe tbody tr th {\n",
       "        vertical-align: top;\n",
       "    }\n",
       "\n",
       "    .dataframe thead th {\n",
       "        text-align: right;\n",
       "    }\n",
       "</style>\n",
       "<table border=\"1\" class=\"dataframe\">\n",
       "  <thead>\n",
       "    <tr style=\"text-align: right;\">\n",
       "      <th></th>\n",
       "      <th>movieId</th>\n",
       "      <th>title</th>\n",
       "      <th>genres</th>\n",
       "    </tr>\n",
       "  </thead>\n",
       "  <tbody>\n",
       "    <tr>\n",
       "      <th>0</th>\n",
       "      <td>1</td>\n",
       "      <td>Toy Story (1995)</td>\n",
       "      <td>Adventure|Animation|Children|Comedy|Fantasy</td>\n",
       "    </tr>\n",
       "    <tr>\n",
       "      <th>1</th>\n",
       "      <td>2</td>\n",
       "      <td>Jumanji (1995)</td>\n",
       "      <td>Adventure|Children|Fantasy</td>\n",
       "    </tr>\n",
       "    <tr>\n",
       "      <th>2</th>\n",
       "      <td>3</td>\n",
       "      <td>Grumpier Old Men (1995)</td>\n",
       "      <td>Comedy|Romance</td>\n",
       "    </tr>\n",
       "    <tr>\n",
       "      <th>3</th>\n",
       "      <td>4</td>\n",
       "      <td>Waiting to Exhale (1995)</td>\n",
       "      <td>Comedy|Drama|Romance</td>\n",
       "    </tr>\n",
       "    <tr>\n",
       "      <th>4</th>\n",
       "      <td>5</td>\n",
       "      <td>Father of the Bride Part II (1995)</td>\n",
       "      <td>Comedy</td>\n",
       "    </tr>\n",
       "  </tbody>\n",
       "</table>\n",
       "</div>"
      ],
      "text/plain": [
       "   movieId                               title  \\\n",
       "0        1                    Toy Story (1995)   \n",
       "1        2                      Jumanji (1995)   \n",
       "2        3             Grumpier Old Men (1995)   \n",
       "3        4            Waiting to Exhale (1995)   \n",
       "4        5  Father of the Bride Part II (1995)   \n",
       "\n",
       "                                        genres  \n",
       "0  Adventure|Animation|Children|Comedy|Fantasy  \n",
       "1                   Adventure|Children|Fantasy  \n",
       "2                               Comedy|Romance  \n",
       "3                         Comedy|Drama|Romance  \n",
       "4                                       Comedy  "
      ]
     },
     "execution_count": 4,
     "metadata": {},
     "output_type": "execute_result"
    }
   ],
   "source": [
    "df_movies.head() # 영화 id에 따른 영화제목과 장르"
   ]
  },
  {
   "cell_type": "code",
   "execution_count": 5,
   "metadata": {},
   "outputs": [
    {
     "data": {
      "text/html": [
       "<div>\n",
       "<style scoped>\n",
       "    .dataframe tbody tr th:only-of-type {\n",
       "        vertical-align: middle;\n",
       "    }\n",
       "\n",
       "    .dataframe tbody tr th {\n",
       "        vertical-align: top;\n",
       "    }\n",
       "\n",
       "    .dataframe thead th {\n",
       "        text-align: right;\n",
       "    }\n",
       "</style>\n",
       "<table border=\"1\" class=\"dataframe\">\n",
       "  <thead>\n",
       "    <tr style=\"text-align: right;\">\n",
       "      <th></th>\n",
       "      <th>userId</th>\n",
       "      <th>movieId</th>\n",
       "      <th>rating</th>\n",
       "      <th>timestamp</th>\n",
       "    </tr>\n",
       "  </thead>\n",
       "  <tbody>\n",
       "    <tr>\n",
       "      <th>0</th>\n",
       "      <td>1</td>\n",
       "      <td>2</td>\n",
       "      <td>3.5</td>\n",
       "      <td>1112486027</td>\n",
       "    </tr>\n",
       "    <tr>\n",
       "      <th>1</th>\n",
       "      <td>1</td>\n",
       "      <td>29</td>\n",
       "      <td>3.5</td>\n",
       "      <td>1112484676</td>\n",
       "    </tr>\n",
       "    <tr>\n",
       "      <th>2</th>\n",
       "      <td>1</td>\n",
       "      <td>32</td>\n",
       "      <td>3.5</td>\n",
       "      <td>1112484819</td>\n",
       "    </tr>\n",
       "    <tr>\n",
       "      <th>3</th>\n",
       "      <td>1</td>\n",
       "      <td>47</td>\n",
       "      <td>3.5</td>\n",
       "      <td>1112484727</td>\n",
       "    </tr>\n",
       "    <tr>\n",
       "      <th>4</th>\n",
       "      <td>1</td>\n",
       "      <td>50</td>\n",
       "      <td>3.5</td>\n",
       "      <td>1112484580</td>\n",
       "    </tr>\n",
       "  </tbody>\n",
       "</table>\n",
       "</div>"
      ],
      "text/plain": [
       "   userId  movieId  rating   timestamp\n",
       "0       1        2     3.5  1112486027\n",
       "1       1       29     3.5  1112484676\n",
       "2       1       32     3.5  1112484819\n",
       "3       1       47     3.5  1112484727\n",
       "4       1       50     3.5  1112484580"
      ]
     },
     "execution_count": 5,
     "metadata": {},
     "output_type": "execute_result"
    }
   ],
   "source": [
    "df_ratings.head() # user가 평가한 영화 점수"
   ]
  },
  {
   "cell_type": "markdown",
   "metadata": {},
   "source": [
    "## 영화제목과 id로 dictionary 생성"
   ]
  },
  {
   "cell_type": "code",
   "execution_count": 6,
   "metadata": {},
   "outputs": [
    {
     "data": {
      "text/plain": [
       "27278"
      ]
     },
     "execution_count": 6,
     "metadata": {},
     "output_type": "execute_result"
    }
   ],
   "source": [
    "movieId_to_name = pd.Series(df_movies.title.values, index = df_movies.movieId.values).to_dict()\n",
    "movieId_to_name\n",
    "len(movieId_to_name)"
   ]
  },
  {
   "cell_type": "code",
   "execution_count": 11,
   "metadata": {},
   "outputs": [
    {
     "data": {
      "text/plain": [
       "'Toy Story (1995)'"
      ]
     },
     "execution_count": 11,
     "metadata": {},
     "output_type": "execute_result"
    }
   ],
   "source": [
    "movieId_to_name[1]"
   ]
  },
  {
   "cell_type": "code",
   "execution_count": 13,
   "metadata": {},
   "outputs": [
    {
     "data": {
      "text/plain": [
       "27262"
      ]
     },
     "execution_count": 13,
     "metadata": {},
     "output_type": "execute_result"
    }
   ],
   "source": [
    "name_to_movieId = pd.Series(df_movies.movieId.values, index = df_movies.title).to_dict()\n",
    "name_to_movieId\n",
    "len(name_to_movieId)"
   ]
  },
  {
   "cell_type": "code",
   "execution_count": 14,
   "metadata": {},
   "outputs": [
    {
     "data": {
      "text/plain": [
       "1"
      ]
     },
     "execution_count": 14,
     "metadata": {},
     "output_type": "execute_result"
    }
   ],
   "source": [
    "name_to_movieId['Toy Story (1995)']"
   ]
  },
  {
   "cell_type": "markdown",
   "metadata": {},
   "source": [
    "## 영화 평점 분포도 확인"
   ]
  },
  {
   "cell_type": "code",
   "execution_count": 15,
   "metadata": {},
   "outputs": [
    {
     "data": {
      "image/png": "[encoded data removed]",
      "text/plain": [
       "<Figure size 576x432 with 1 Axes>"
      ]
     },
     "metadata": {
      "needs_background": "light"
     },
     "output_type": "display_data"
    }
   ],
   "source": [
    "plt.figure(figsize=(8, 6))\n",
    "ax = plt.subplot(111)\n",
    "ax.set_title(\"Distribution of Movie Ratings\", fontsize=16)\n",
    "ax.spines[\"top\"].set_visible(False)  # 그래프 오른쪽 라인 보이지 않게\n",
    "ax.spines[\"right\"].set_visible(False)  # 그래프 왼쪽 라인 보이지 않게\n",
    "\n",
    "plt.xticks(fontsize=12)  \n",
    "plt.yticks(fontsize=12)  \n",
    "  \n",
    "plt.xlabel(\"Movie Rating\", fontsize=14)  \n",
    "plt.ylabel(\"Count\", fontsize=14)  \n",
    "  \n",
    "plt.hist(df_ratings['rating'], color=\"#3F5D7D\")  \n",
    "\n",
    "plt.show()"
   ]
  },
  {
   "cell_type": "markdown",
   "metadata": {},
   "source": [
    "## train set과 test set 나누기"
   ]
  },
  {
   "cell_type": "code",
   "execution_count": 20,
   "metadata": {},
   "outputs": [],
   "source": [
    "from sklearn.model_selection import train_test_split\n",
    "\n",
    "df_ratings_train, df_ratings_test= train_test_split(df_ratings, \n",
    "                                                    stratify=df_ratings['userId'],\n",
    "                                                    random_state = 15688, \n",
    "                                                    test_size=0.3)"
   ]
  },
  {
   "cell_type": "code",
   "execution_count": 21,
   "metadata": {},
   "outputs": [
    {
     "data": {
      "text/html": [
       "<div>\n",
       "<style scoped>\n",
       "    .dataframe tbody tr th:only-of-type {\n",
       "        vertical-align: middle;\n",
       "    }\n",
       "\n",
       "    .dataframe tbody tr th {\n",
       "        vertical-align: top;\n",
       "    }\n",
       "\n",
       "    .dataframe thead th {\n",
       "        text-align: right;\n",
       "    }\n",
       "</style>\n",
       "<table border=\"1\" class=\"dataframe\">\n",
       "  <thead>\n",
       "    <tr style=\"text-align: right;\">\n",
       "      <th></th>\n",
       "      <th>userId</th>\n",
       "      <th>movieId</th>\n",
       "      <th>rating</th>\n",
       "      <th>timestamp</th>\n",
       "    </tr>\n",
       "  </thead>\n",
       "  <tbody>\n",
       "    <tr>\n",
       "      <th>6188336</th>\n",
       "      <td>42585</td>\n",
       "      <td>2531</td>\n",
       "      <td>3.0</td>\n",
       "      <td>942750609</td>\n",
       "    </tr>\n",
       "    <tr>\n",
       "      <th>15821097</th>\n",
       "      <td>109427</td>\n",
       "      <td>2352</td>\n",
       "      <td>4.0</td>\n",
       "      <td>1166543187</td>\n",
       "    </tr>\n",
       "    <tr>\n",
       "      <th>17323648</th>\n",
       "      <td>119776</td>\n",
       "      <td>539</td>\n",
       "      <td>4.0</td>\n",
       "      <td>1121124223</td>\n",
       "    </tr>\n",
       "    <tr>\n",
       "      <th>114102</th>\n",
       "      <td>775</td>\n",
       "      <td>1375</td>\n",
       "      <td>3.0</td>\n",
       "      <td>1113796177</td>\n",
       "    </tr>\n",
       "    <tr>\n",
       "      <th>7738984</th>\n",
       "      <td>53329</td>\n",
       "      <td>4993</td>\n",
       "      <td>5.0</td>\n",
       "      <td>1212654643</td>\n",
       "    </tr>\n",
       "    <tr>\n",
       "      <th>...</th>\n",
       "      <td>...</td>\n",
       "      <td>...</td>\n",
       "      <td>...</td>\n",
       "      <td>...</td>\n",
       "    </tr>\n",
       "    <tr>\n",
       "      <th>17154272</th>\n",
       "      <td>118658</td>\n",
       "      <td>52281</td>\n",
       "      <td>4.0</td>\n",
       "      <td>1250844614</td>\n",
       "    </tr>\n",
       "    <tr>\n",
       "      <th>5635394</th>\n",
       "      <td>38787</td>\n",
       "      <td>1527</td>\n",
       "      <td>4.0</td>\n",
       "      <td>1213881653</td>\n",
       "    </tr>\n",
       "    <tr>\n",
       "      <th>16973561</th>\n",
       "      <td>117384</td>\n",
       "      <td>2528</td>\n",
       "      <td>3.5</td>\n",
       "      <td>1199527404</td>\n",
       "    </tr>\n",
       "    <tr>\n",
       "      <th>16435934</th>\n",
       "      <td>113782</td>\n",
       "      <td>233</td>\n",
       "      <td>2.0</td>\n",
       "      <td>994171294</td>\n",
       "    </tr>\n",
       "    <tr>\n",
       "      <th>8457330</th>\n",
       "      <td>58364</td>\n",
       "      <td>185</td>\n",
       "      <td>3.0</td>\n",
       "      <td>848418076</td>\n",
       "    </tr>\n",
       "  </tbody>\n",
       "</table>\n",
       "<p>14000184 rows × 4 columns</p>\n",
       "</div>"
      ],
      "text/plain": [
       "          userId  movieId  rating   timestamp\n",
       "6188336    42585     2531     3.0   942750609\n",
       "15821097  109427     2352     4.0  1166543187\n",
       "17323648  119776      539     4.0  1121124223\n",
       "114102       775     1375     3.0  1113796177\n",
       "7738984    53329     4993     5.0  1212654643\n",
       "...          ...      ...     ...         ...\n",
       "17154272  118658    52281     4.0  1250844614\n",
       "5635394    38787     1527     4.0  1213881653\n",
       "16973561  117384     2528     3.5  1199527404\n",
       "16435934  113782      233     2.0   994171294\n",
       "8457330    58364      185     3.0   848418076\n",
       "\n",
       "[14000184 rows x 4 columns]"
      ]
     },
     "execution_count": 21,
     "metadata": {},
     "output_type": "execute_result"
    }
   ],
   "source": [
    "df_ratings_train"
   ]
  },
  {
   "cell_type": "code",
   "execution_count": 22,
   "metadata": {},
   "outputs": [
    {
     "data": {
      "text/html": [
       "<div>\n",
       "<style scoped>\n",
       "    .dataframe tbody tr th:only-of-type {\n",
       "        vertical-align: middle;\n",
       "    }\n",
       "\n",
       "    .dataframe tbody tr th {\n",
       "        vertical-align: top;\n",
       "    }\n",
       "\n",
       "    .dataframe thead th {\n",
       "        text-align: right;\n",
       "    }\n",
       "</style>\n",
       "<table border=\"1\" class=\"dataframe\">\n",
       "  <thead>\n",
       "    <tr style=\"text-align: right;\">\n",
       "      <th></th>\n",
       "      <th>userId</th>\n",
       "      <th>movieId</th>\n",
       "      <th>rating</th>\n",
       "      <th>timestamp</th>\n",
       "    </tr>\n",
       "  </thead>\n",
       "  <tbody>\n",
       "    <tr>\n",
       "      <th>4768927</th>\n",
       "      <td>32735</td>\n",
       "      <td>2390</td>\n",
       "      <td>4.0</td>\n",
       "      <td>985193943</td>\n",
       "    </tr>\n",
       "    <tr>\n",
       "      <th>3797378</th>\n",
       "      <td>25880</td>\n",
       "      <td>6003</td>\n",
       "      <td>3.0</td>\n",
       "      <td>1174937240</td>\n",
       "    </tr>\n",
       "    <tr>\n",
       "      <th>3406085</th>\n",
       "      <td>23223</td>\n",
       "      <td>1873</td>\n",
       "      <td>4.5</td>\n",
       "      <td>1388627366</td>\n",
       "    </tr>\n",
       "    <tr>\n",
       "      <th>1742963</th>\n",
       "      <td>11794</td>\n",
       "      <td>2761</td>\n",
       "      <td>4.5</td>\n",
       "      <td>1123779915</td>\n",
       "    </tr>\n",
       "    <tr>\n",
       "      <th>7090380</th>\n",
       "      <td>48904</td>\n",
       "      <td>2533</td>\n",
       "      <td>3.0</td>\n",
       "      <td>945568333</td>\n",
       "    </tr>\n",
       "    <tr>\n",
       "      <th>...</th>\n",
       "      <td>...</td>\n",
       "      <td>...</td>\n",
       "      <td>...</td>\n",
       "      <td>...</td>\n",
       "    </tr>\n",
       "    <tr>\n",
       "      <th>3711620</th>\n",
       "      <td>25270</td>\n",
       "      <td>22</td>\n",
       "      <td>2.0</td>\n",
       "      <td>847063069</td>\n",
       "    </tr>\n",
       "    <tr>\n",
       "      <th>6002412</th>\n",
       "      <td>41329</td>\n",
       "      <td>6539</td>\n",
       "      <td>3.5</td>\n",
       "      <td>1231025387</td>\n",
       "    </tr>\n",
       "    <tr>\n",
       "      <th>4551846</th>\n",
       "      <td>31158</td>\n",
       "      <td>1259</td>\n",
       "      <td>5.0</td>\n",
       "      <td>978743391</td>\n",
       "    </tr>\n",
       "    <tr>\n",
       "      <th>18483458</th>\n",
       "      <td>127954</td>\n",
       "      <td>7147</td>\n",
       "      <td>3.0</td>\n",
       "      <td>1204813898</td>\n",
       "    </tr>\n",
       "    <tr>\n",
       "      <th>16436004</th>\n",
       "      <td>113782</td>\n",
       "      <td>1959</td>\n",
       "      <td>2.0</td>\n",
       "      <td>994167417</td>\n",
       "    </tr>\n",
       "  </tbody>\n",
       "</table>\n",
       "<p>6000079 rows × 4 columns</p>\n",
       "</div>"
      ],
      "text/plain": [
       "          userId  movieId  rating   timestamp\n",
       "4768927    32735     2390     4.0   985193943\n",
       "3797378    25880     6003     3.0  1174937240\n",
       "3406085    23223     1873     4.5  1388627366\n",
       "1742963    11794     2761     4.5  1123779915\n",
       "7090380    48904     2533     3.0   945568333\n",
       "...          ...      ...     ...         ...\n",
       "3711620    25270       22     2.0   847063069\n",
       "6002412    41329     6539     3.5  1231025387\n",
       "4551846    31158     1259     5.0   978743391\n",
       "18483458  127954     7147     3.0  1204813898\n",
       "16436004  113782     1959     2.0   994167417\n",
       "\n",
       "[6000079 rows x 4 columns]"
      ]
     },
     "execution_count": 22,
     "metadata": {},
     "output_type": "execute_result"
    }
   ],
   "source": [
    "df_ratings_test"
   ]
  },
  {
   "cell_type": "code",
   "execution_count": 23,
   "metadata": {},
   "outputs": [
    {
     "name": "stdout",
     "output_type": "stream",
     "text": [
      "Number of training data: 14000184\n",
      "Number of test data: 6000079\n"
     ]
    }
   ],
   "source": [
    "print(\"Number of training data: \"+str(len(df_ratings_train)))\n",
    "print(\"Number of test data: \"+str(len(df_ratings_test)))"
   ]
  },
  {
   "cell_type": "markdown",
   "metadata": {},
   "source": [
    "## 평점 4점이상이면 1 미만이면 0으로 매핑"
   ]
  },
  {
   "cell_type": "code",
   "execution_count": 24,
   "metadata": {
    "scrolled": true
   },
   "outputs": [],
   "source": [
    "df_ratings_train['liked'] = np.where(df_ratings_train['rating']>=4, 1, 0)\n",
    "df_ratings_train['movieId'] = df_ratings_train['movieId'].astype('str')"
   ]
  },
  {
   "cell_type": "code",
   "execution_count": 25,
   "metadata": {},
   "outputs": [
    {
     "data": {
      "text/html": [
       "<div>\n",
       "<style scoped>\n",
       "    .dataframe tbody tr th:only-of-type {\n",
       "        vertical-align: middle;\n",
       "    }\n",
       "\n",
       "    .dataframe tbody tr th {\n",
       "        vertical-align: top;\n",
       "    }\n",
       "\n",
       "    .dataframe thead th {\n",
       "        text-align: right;\n",
       "    }\n",
       "</style>\n",
       "<table border=\"1\" class=\"dataframe\">\n",
       "  <thead>\n",
       "    <tr style=\"text-align: right;\">\n",
       "      <th></th>\n",
       "      <th>userId</th>\n",
       "      <th>movieId</th>\n",
       "      <th>rating</th>\n",
       "      <th>timestamp</th>\n",
       "      <th>liked</th>\n",
       "    </tr>\n",
       "  </thead>\n",
       "  <tbody>\n",
       "    <tr>\n",
       "      <th>6188336</th>\n",
       "      <td>42585</td>\n",
       "      <td>2531</td>\n",
       "      <td>3.0</td>\n",
       "      <td>942750609</td>\n",
       "      <td>0</td>\n",
       "    </tr>\n",
       "    <tr>\n",
       "      <th>15821097</th>\n",
       "      <td>109427</td>\n",
       "      <td>2352</td>\n",
       "      <td>4.0</td>\n",
       "      <td>1166543187</td>\n",
       "      <td>1</td>\n",
       "    </tr>\n",
       "    <tr>\n",
       "      <th>17323648</th>\n",
       "      <td>119776</td>\n",
       "      <td>539</td>\n",
       "      <td>4.0</td>\n",
       "      <td>1121124223</td>\n",
       "      <td>1</td>\n",
       "    </tr>\n",
       "    <tr>\n",
       "      <th>114102</th>\n",
       "      <td>775</td>\n",
       "      <td>1375</td>\n",
       "      <td>3.0</td>\n",
       "      <td>1113796177</td>\n",
       "      <td>0</td>\n",
       "    </tr>\n",
       "    <tr>\n",
       "      <th>7738984</th>\n",
       "      <td>53329</td>\n",
       "      <td>4993</td>\n",
       "      <td>5.0</td>\n",
       "      <td>1212654643</td>\n",
       "      <td>1</td>\n",
       "    </tr>\n",
       "    <tr>\n",
       "      <th>...</th>\n",
       "      <td>...</td>\n",
       "      <td>...</td>\n",
       "      <td>...</td>\n",
       "      <td>...</td>\n",
       "      <td>...</td>\n",
       "    </tr>\n",
       "    <tr>\n",
       "      <th>17154272</th>\n",
       "      <td>118658</td>\n",
       "      <td>52281</td>\n",
       "      <td>4.0</td>\n",
       "      <td>1250844614</td>\n",
       "      <td>1</td>\n",
       "    </tr>\n",
       "    <tr>\n",
       "      <th>5635394</th>\n",
       "      <td>38787</td>\n",
       "      <td>1527</td>\n",
       "      <td>4.0</td>\n",
       "      <td>1213881653</td>\n",
       "      <td>1</td>\n",
       "    </tr>\n",
       "    <tr>\n",
       "      <th>16973561</th>\n",
       "      <td>117384</td>\n",
       "      <td>2528</td>\n",
       "      <td>3.5</td>\n",
       "      <td>1199527404</td>\n",
       "      <td>0</td>\n",
       "    </tr>\n",
       "    <tr>\n",
       "      <th>16435934</th>\n",
       "      <td>113782</td>\n",
       "      <td>233</td>\n",
       "      <td>2.0</td>\n",
       "      <td>994171294</td>\n",
       "      <td>0</td>\n",
       "    </tr>\n",
       "    <tr>\n",
       "      <th>8457330</th>\n",
       "      <td>58364</td>\n",
       "      <td>185</td>\n",
       "      <td>3.0</td>\n",
       "      <td>848418076</td>\n",
       "      <td>0</td>\n",
       "    </tr>\n",
       "  </tbody>\n",
       "</table>\n",
       "<p>14000184 rows × 5 columns</p>\n",
       "</div>"
      ],
      "text/plain": [
       "          userId movieId  rating   timestamp  liked\n",
       "6188336    42585    2531     3.0   942750609      0\n",
       "15821097  109427    2352     4.0  1166543187      1\n",
       "17323648  119776     539     4.0  1121124223      1\n",
       "114102       775    1375     3.0  1113796177      0\n",
       "7738984    53329    4993     5.0  1212654643      1\n",
       "...          ...     ...     ...         ...    ...\n",
       "17154272  118658   52281     4.0  1250844614      1\n",
       "5635394    38787    1527     4.0  1213881653      1\n",
       "16973561  117384    2528     3.5  1199527404      0\n",
       "16435934  113782     233     2.0   994171294      0\n",
       "8457330    58364     185     3.0   848418076      0\n",
       "\n",
       "[14000184 rows x 5 columns]"
      ]
     },
     "execution_count": 25,
     "metadata": {},
     "output_type": "execute_result"
    }
   ],
   "source": [
    "df_ratings_train"
   ]
  },
  {
   "cell_type": "markdown",
   "metadata": {},
   "source": [
    "## liked와 userid로 그룹핑 하기"
   ]
  },
  {
   "cell_type": "code",
   "execution_count": 26,
   "metadata": {},
   "outputs": [],
   "source": [
    "gp_user_like = df_ratings_train.groupby(['liked', 'userId'])"
   ]
  },
  {
   "cell_type": "code",
   "execution_count": 27,
   "metadata": {
    "scrolled": false
   },
   "outputs": [
    {
     "data": {
      "text/plain": [
       "<pandas.core.groupby.generic.DataFrameGroupBy object at 0x000001A02A688508>"
      ]
     },
     "execution_count": 27,
     "metadata": {},
     "output_type": "execute_result"
    }
   ],
   "source": [
    "gp_user_like"
   ]
  },
  {
   "cell_type": "code",
   "execution_count": 16,
   "metadata": {
    "scrolled": true
   },
   "outputs": [],
   "source": [
    "#for gp in gp_user_like.groups:\n",
    "    #print(gp)\n"
   ]
  },
  {
   "cell_type": "code",
   "execution_count": 28,
   "metadata": {
    "scrolled": true
   },
   "outputs": [
    {
     "data": {
      "text/html": [
       "<div>\n",
       "<style scoped>\n",
       "    .dataframe tbody tr th:only-of-type {\n",
       "        vertical-align: middle;\n",
       "    }\n",
       "\n",
       "    .dataframe tbody tr th {\n",
       "        vertical-align: top;\n",
       "    }\n",
       "\n",
       "    .dataframe thead th {\n",
       "        text-align: right;\n",
       "    }\n",
       "</style>\n",
       "<table border=\"1\" class=\"dataframe\">\n",
       "  <thead>\n",
       "    <tr style=\"text-align: right;\">\n",
       "      <th></th>\n",
       "      <th>userId</th>\n",
       "      <th>movieId</th>\n",
       "      <th>rating</th>\n",
       "      <th>timestamp</th>\n",
       "      <th>liked</th>\n",
       "    </tr>\n",
       "  </thead>\n",
       "  <tbody>\n",
       "    <tr>\n",
       "      <th>115</th>\n",
       "      <td>1</td>\n",
       "      <td>4105</td>\n",
       "      <td>3.5</td>\n",
       "      <td>1094786104</td>\n",
       "      <td>0</td>\n",
       "    </tr>\n",
       "    <tr>\n",
       "      <th>51</th>\n",
       "      <td>1</td>\n",
       "      <td>1304</td>\n",
       "      <td>3.0</td>\n",
       "      <td>1094785720</td>\n",
       "      <td>0</td>\n",
       "    </tr>\n",
       "    <tr>\n",
       "      <th>129</th>\n",
       "      <td>1</td>\n",
       "      <td>4941</td>\n",
       "      <td>3.5</td>\n",
       "      <td>1112486007</td>\n",
       "      <td>0</td>\n",
       "    </tr>\n",
       "    <tr>\n",
       "      <th>89</th>\n",
       "      <td>1</td>\n",
       "      <td>2761</td>\n",
       "      <td>3.0</td>\n",
       "      <td>1112484759</td>\n",
       "      <td>0</td>\n",
       "    </tr>\n",
       "    <tr>\n",
       "      <th>33</th>\n",
       "      <td>1</td>\n",
       "      <td>1201</td>\n",
       "      <td>3.0</td>\n",
       "      <td>1112484642</td>\n",
       "      <td>0</td>\n",
       "    </tr>\n",
       "    <tr>\n",
       "      <th>...</th>\n",
       "      <td>...</td>\n",
       "      <td>...</td>\n",
       "      <td>...</td>\n",
       "      <td>...</td>\n",
       "      <td>...</td>\n",
       "    </tr>\n",
       "    <tr>\n",
       "      <th>63</th>\n",
       "      <td>1</td>\n",
       "      <td>1848</td>\n",
       "      <td>3.5</td>\n",
       "      <td>1112486032</td>\n",
       "      <td>0</td>\n",
       "    </tr>\n",
       "    <tr>\n",
       "      <th>14</th>\n",
       "      <td>1</td>\n",
       "      <td>367</td>\n",
       "      <td>3.5</td>\n",
       "      <td>1112485980</td>\n",
       "      <td>0</td>\n",
       "    </tr>\n",
       "    <tr>\n",
       "      <th>47</th>\n",
       "      <td>1</td>\n",
       "      <td>1262</td>\n",
       "      <td>3.5</td>\n",
       "      <td>1112484735</td>\n",
       "      <td>0</td>\n",
       "    </tr>\n",
       "    <tr>\n",
       "      <th>4</th>\n",
       "      <td>1</td>\n",
       "      <td>50</td>\n",
       "      <td>3.5</td>\n",
       "      <td>1112484580</td>\n",
       "      <td>0</td>\n",
       "    </tr>\n",
       "    <tr>\n",
       "      <th>138</th>\n",
       "      <td>1</td>\n",
       "      <td>5679</td>\n",
       "      <td>3.5</td>\n",
       "      <td>1094786108</td>\n",
       "      <td>0</td>\n",
       "    </tr>\n",
       "  </tbody>\n",
       "</table>\n",
       "<p>63 rows × 5 columns</p>\n",
       "</div>"
      ],
      "text/plain": [
       "     userId movieId  rating   timestamp  liked\n",
       "115       1    4105     3.5  1094786104      0\n",
       "51        1    1304     3.0  1094785720      0\n",
       "129       1    4941     3.5  1112486007      0\n",
       "89        1    2761     3.0  1112484759      0\n",
       "33        1    1201     3.0  1112484642      0\n",
       "..      ...     ...     ...         ...    ...\n",
       "63        1    1848     3.5  1112486032      0\n",
       "14        1     367     3.5  1112485980      0\n",
       "47        1    1262     3.5  1112484735      0\n",
       "4         1      50     3.5  1112484580      0\n",
       "138       1    5679     3.5  1094786108      0\n",
       "\n",
       "[63 rows x 5 columns]"
      ]
     },
     "execution_count": 28,
     "metadata": {},
     "output_type": "execute_result"
    }
   ],
   "source": [
    "gp_user_like.get_group((0, 1)) # (0,1) = liked가 0이고 userid가 1"
   ]
  },
  {
   "cell_type": "markdown",
   "metadata": {},
   "source": [
    "## 그룹핑한 데이터 바탕으로 movieid 리스트 변환"
   ]
  },
  {
   "cell_type": "code",
   "execution_count": 29,
   "metadata": {},
   "outputs": [],
   "source": [
    "def rating_splitter(df):\n",
    "    \n",
    "    df['liked'] = np.where(df['rating']>=4, 1, 0)\n",
    "    df['movieId'] = df['movieId'].astype('str')\n",
    "    gp_user_like = df.groupby(['liked', 'userId'])\n",
    "\n",
    "    return ([gp_user_like.get_group(gp)['movieId'].tolist() for gp in gp_user_like.groups])"
   ]
  },
  {
   "cell_type": "code",
   "execution_count": 30,
   "metadata": {},
   "outputs": [],
   "source": [
    "pd.options.mode.chained_assignment = None\n",
    "splitted_movies = rating_splitter(df_ratings_train)"
   ]
  },
  {
   "cell_type": "code",
   "execution_count": 32,
   "metadata": {},
   "outputs": [
    {
     "name": "stdout",
     "output_type": "stream",
     "text": [
      "['4105', '1304', '4941', '2761', '1201', '29', '1193', '1750', '1291', '5898', '7045', '2648', '2716', '1994', '2692', '5040', '3037', '6834', '8482', '7164', '112', '6502', '6755', '4226', '589', '7001', '2644', '1348', '7449', '4446', '2194', '1584', '3997', '6242', '6807', '2664', '1243', '47', '1080', '4878', '1261', '4980', '5146', '3438', '1009', '2', '1208', '1089', '337', '3476', '653', '1920', '4133', '32', '2253', '1997', '7247', '1350', '1848', '367', '1262', '50', '5679']\n"
     ]
    }
   ],
   "source": [
    "print(splitted_movies[0]) #(0,1) (0,2) 순으로 movieid 리스트로 나열"
   ]
  },
  {
   "cell_type": "markdown",
   "metadata": {},
   "source": [
    "## movie_list shuffle로 최종 input 데이터 생성"
   ]
  },
  {
   "cell_type": "code",
   "execution_count": 105,
   "metadata": {},
   "outputs": [],
   "source": [
    "import warnings\n",
    "warnings.filterwarnings(action='ignore', category=UserWarning, module='gensim')\n",
    "\n",
    "import gensim\n",
    "assert gensim.models.word2vec.FAST_VERSION > -1"
   ]
  },
  {
   "cell_type": "code",
   "execution_count": 106,
   "metadata": {},
   "outputs": [],
   "source": [
    "import random\n",
    "\n",
    "for movie_list in splitted_movies:\n",
    "    random.shuffle(movie_list)"
   ]
  },
  {
   "cell_type": "code",
   "execution_count": 107,
   "metadata": {
    "scrolled": true
   },
   "outputs": [
    {
     "name": "stdout",
     "output_type": "stream",
     "text": [
      "Time passed: 1:20:32.389317\n"
     ]
    }
   ],
   "source": [
    "from gensim.models import Word2Vec\n",
    "import datetime\n",
    "start = datetime.datetime.now()\n",
    "\n",
    "model = Word2Vec(sentences = splitted_movies, # input list\n",
    "                 iter = 5, # epoch\n",
    "                 min_count = 10, # 최소 등장 횟수 (최소 10번 이상 등장한 영화만 분석 대상)\n",
    "                 size = 200, # 은닉층의 차원\n",
    "                 workers = 4, # threads \n",
    "                 sg = 1, # skip-gram으로 학습\n",
    "                 hs = 0, # negative sampling 적용\n",
    "                 negative = 5, # negative sampling 참고 데이터 갯수.\n",
    "                 window = 9999999)\n",
    "\n",
    "print(\"Time passed: \" + str(datetime.datetime.now()-start))\n",
    "model.save('item2vec')"
   ]
  },
  {
   "cell_type": "markdown",
   "metadata": {},
   "source": [
    "### 모델 설명\n",
    "window size를 최대로 키움으로써, 1번유저에게 4점 미만 점수를 받은 영화들이 같은 window size에 한번에 들어가게 하여,  \n",
    "같은 의미를 가지게 되고, 4점 이상 점수를 받은 영화들을 같은 의미를 가지게 되는 임베딩 벡터값으로 학습되게 된다."
   ]
  },
  {
   "cell_type": "markdown",
   "metadata": {},
   "source": [
    "## 정의한 모델 불러오기"
   ]
  },
  {
   "cell_type": "code",
   "execution_count": 34,
   "metadata": {},
   "outputs": [
    {
     "name": "stderr",
     "output_type": "stream",
     "text": [
      "unable to import 'smart_open.gcs', disabling that module\n"
     ]
    }
   ],
   "source": [
    "import warnings\n",
    "warnings.filterwarnings(action='ignore', category=UserWarning, module='gensim')\n",
    "\n",
    "from gensim.models import Word2Vec\n",
    "model = Word2Vec.load('item2vec')\n",
    "word_vectors = model.wv"
   ]
  },
  {
   "cell_type": "markdown",
   "metadata": {},
   "source": [
    "## 토이스토리와 비슷한 선호도를 가진 영화 출력"
   ]
  },
  {
   "cell_type": "code",
   "execution_count": 11,
   "metadata": {},
   "outputs": [
    {
     "data": {
      "text/plain": [
       "1"
      ]
     },
     "execution_count": 11,
     "metadata": {},
     "output_type": "execute_result"
    }
   ],
   "source": [
    "name_to_movieId['Toy Story (1995)']"
   ]
  },
  {
   "cell_type": "code",
   "execution_count": 28,
   "metadata": {},
   "outputs": [
    {
     "data": {
      "text/plain": [
       "[('1073', 0.9282249212265015),\n",
       " ('364', 0.921668529510498),\n",
       " ('1197', 0.921483039855957),\n",
       " ('588', 0.920537531375885),\n",
       " ('648', 0.9193351864814758)]"
      ]
     },
     "execution_count": 28,
     "metadata": {},
     "output_type": "execute_result"
    }
   ],
   "source": [
    "model.wv.most_similar_cosmul(positive=['1'],negative=None,topn=5)"
   ]
  },
  {
   "cell_type": "code",
   "execution_count": 80,
   "metadata": {},
   "outputs": [
    {
     "data": {
      "text/html": [
       "<div>\n",
       "<style scoped>\n",
       "    .dataframe tbody tr th:only-of-type {\n",
       "        vertical-align: middle;\n",
       "    }\n",
       "\n",
       "    .dataframe tbody tr th {\n",
       "        vertical-align: top;\n",
       "    }\n",
       "\n",
       "    .dataframe thead th {\n",
       "        text-align: right;\n",
       "    }\n",
       "</style>\n",
       "<table border=\"1\" class=\"dataframe\">\n",
       "  <thead>\n",
       "    <tr style=\"text-align: right;\">\n",
       "      <th></th>\n",
       "      <th>movieId</th>\n",
       "      <th>title</th>\n",
       "      <th>genres</th>\n",
       "    </tr>\n",
       "  </thead>\n",
       "  <tbody>\n",
       "    <tr>\n",
       "      <th>0</th>\n",
       "      <td>1</td>\n",
       "      <td>Toy Story (1995)</td>\n",
       "      <td>Adventure|Animation|Children|Comedy|Fantasy</td>\n",
       "    </tr>\n",
       "  </tbody>\n",
       "</table>\n",
       "</div>"
      ],
      "text/plain": [
       "   movieId             title                                       genres\n",
       "0        1  Toy Story (1995)  Adventure|Animation|Children|Comedy|Fantasy"
      ]
     },
     "execution_count": 80,
     "metadata": {},
     "output_type": "execute_result"
    }
   ],
   "source": [
    "w=df_movies['movieId']==1\n",
    "df_movies[w]"
   ]
  },
  {
   "cell_type": "code",
   "execution_count": 189,
   "metadata": {},
   "outputs": [
    {
     "data": {
      "text/html": [
       "<div>\n",
       "<style scoped>\n",
       "    .dataframe tbody tr th:only-of-type {\n",
       "        vertical-align: middle;\n",
       "    }\n",
       "\n",
       "    .dataframe tbody tr th {\n",
       "        vertical-align: top;\n",
       "    }\n",
       "\n",
       "    .dataframe thead th {\n",
       "        text-align: right;\n",
       "    }\n",
       "</style>\n",
       "<table border=\"1\" class=\"dataframe\">\n",
       "  <thead>\n",
       "    <tr style=\"text-align: right;\">\n",
       "      <th></th>\n",
       "      <th>movieId</th>\n",
       "      <th>title</th>\n",
       "      <th>genres</th>\n",
       "    </tr>\n",
       "  </thead>\n",
       "  <tbody>\n",
       "    <tr>\n",
       "      <th>360</th>\n",
       "      <td>364</td>\n",
       "      <td>Lion King, The (1994)</td>\n",
       "      <td>Adventure|Animation|Children|Drama|Musical|IMAX</td>\n",
       "    </tr>\n",
       "    <tr>\n",
       "      <th>582</th>\n",
       "      <td>588</td>\n",
       "      <td>Aladdin (1992)</td>\n",
       "      <td>Adventure|Animation|Children|Comedy|Musical</td>\n",
       "    </tr>\n",
       "    <tr>\n",
       "      <th>640</th>\n",
       "      <td>648</td>\n",
       "      <td>Mission: Impossible (1996)</td>\n",
       "      <td>Action|Adventure|Mystery|Thriller</td>\n",
       "    </tr>\n",
       "    <tr>\n",
       "      <th>1052</th>\n",
       "      <td>1073</td>\n",
       "      <td>Willy Wonka &amp; the Chocolate Factory (1971)</td>\n",
       "      <td>Children|Comedy|Fantasy|Musical</td>\n",
       "    </tr>\n",
       "    <tr>\n",
       "      <th>1172</th>\n",
       "      <td>1197</td>\n",
       "      <td>Princess Bride, The (1987)</td>\n",
       "      <td>Action|Adventure|Comedy|Fantasy|Romance</td>\n",
       "    </tr>\n",
       "  </tbody>\n",
       "</table>\n",
       "</div>"
      ],
      "text/plain": [
       "      movieId                                       title  \\\n",
       "360       364                       Lion King, The (1994)   \n",
       "582       588                              Aladdin (1992)   \n",
       "640       648                  Mission: Impossible (1996)   \n",
       "1052     1073  Willy Wonka & the Chocolate Factory (1971)   \n",
       "1172     1197                  Princess Bride, The (1987)   \n",
       "\n",
       "                                               genres  \n",
       "360   Adventure|Animation|Children|Drama|Musical|IMAX  \n",
       "582       Adventure|Animation|Children|Comedy|Musical  \n",
       "640                 Action|Adventure|Mystery|Thriller  \n",
       "1052                  Children|Comedy|Fantasy|Musical  \n",
       "1172          Action|Adventure|Comedy|Fantasy|Romance  "
      ]
     },
     "execution_count": 189,
     "metadata": {},
     "output_type": "execute_result"
    }
   ],
   "source": [
    "df_movies[df_movies['movieId'].isin([1073,364,1197,588,648])]"
   ]
  },
  {
   "cell_type": "markdown",
   "metadata": {},
   "source": [
    "토이스토리와 비슷한 선호를 가진 영화들은 라이온킹, 알라딘, 윌리와 초콜릿 공장 등으로 나타남.\n",
    "장르를 보면, 토이스토리와 비슷한 장르의 영화가 나타난것을 볼 수 있음"
   ]
  },
  {
   "cell_type": "markdown",
   "metadata": {},
   "source": [
    "## 아이언맨과 어벤져스를 좋아하는 사람이 좋아할만한 영화 추천"
   ]
  },
  {
   "cell_type": "code",
   "execution_count": 12,
   "metadata": {},
   "outputs": [
    {
     "name": "stdout",
     "output_type": "stream",
     "text": [
      "59315\n",
      "89745\n"
     ]
    }
   ],
   "source": [
    "print(name_to_movieId['Iron Man (2008)'])\n",
    "print(name_to_movieId['Avengers, The (2012)'])"
   ]
  },
  {
   "cell_type": "code",
   "execution_count": 218,
   "metadata": {},
   "outputs": [
    {
     "data": {
      "text/html": [
       "<div>\n",
       "<style scoped>\n",
       "    .dataframe tbody tr th:only-of-type {\n",
       "        vertical-align: middle;\n",
       "    }\n",
       "\n",
       "    .dataframe tbody tr th {\n",
       "        vertical-align: top;\n",
       "    }\n",
       "\n",
       "    .dataframe thead th {\n",
       "        text-align: right;\n",
       "    }\n",
       "</style>\n",
       "<table border=\"1\" class=\"dataframe\">\n",
       "  <thead>\n",
       "    <tr style=\"text-align: right;\">\n",
       "      <th></th>\n",
       "      <th>movieId</th>\n",
       "      <th>title</th>\n",
       "      <th>genres</th>\n",
       "    </tr>\n",
       "  </thead>\n",
       "  <tbody>\n",
       "    <tr>\n",
       "      <th>12631</th>\n",
       "      <td>59315</td>\n",
       "      <td>Iron Man (2008)</td>\n",
       "      <td>Action|Adventure|Sci-Fi</td>\n",
       "    </tr>\n",
       "  </tbody>\n",
       "</table>\n",
       "</div>"
      ],
      "text/plain": [
       "       movieId            title                   genres\n",
       "12631    59315  Iron Man (2008)  Action|Adventure|Sci-Fi"
      ]
     },
     "execution_count": 218,
     "metadata": {},
     "output_type": "execute_result"
    }
   ],
   "source": [
    "w=df_movies['movieId']==59315\n",
    "df_movies[w]"
   ]
  },
  {
   "cell_type": "code",
   "execution_count": 219,
   "metadata": {},
   "outputs": [
    {
     "data": {
      "text/html": [
       "<div>\n",
       "<style scoped>\n",
       "    .dataframe tbody tr th:only-of-type {\n",
       "        vertical-align: middle;\n",
       "    }\n",
       "\n",
       "    .dataframe tbody tr th {\n",
       "        vertical-align: top;\n",
       "    }\n",
       "\n",
       "    .dataframe thead th {\n",
       "        text-align: right;\n",
       "    }\n",
       "</style>\n",
       "<table border=\"1\" class=\"dataframe\">\n",
       "  <thead>\n",
       "    <tr style=\"text-align: right;\">\n",
       "      <th></th>\n",
       "      <th>movieId</th>\n",
       "      <th>title</th>\n",
       "      <th>genres</th>\n",
       "    </tr>\n",
       "  </thead>\n",
       "  <tbody>\n",
       "    <tr>\n",
       "      <th>17874</th>\n",
       "      <td>89745</td>\n",
       "      <td>Avengers, The (2012)</td>\n",
       "      <td>Action|Adventure|Sci-Fi|IMAX</td>\n",
       "    </tr>\n",
       "  </tbody>\n",
       "</table>\n",
       "</div>"
      ],
      "text/plain": [
       "       movieId                 title                        genres\n",
       "17874    89745  Avengers, The (2012)  Action|Adventure|Sci-Fi|IMAX"
      ]
     },
     "execution_count": 219,
     "metadata": {},
     "output_type": "execute_result"
    }
   ],
   "source": [
    "w=df_movies['movieId']==89745\n",
    "df_movies[w]"
   ]
  },
  {
   "cell_type": "code",
   "execution_count": 26,
   "metadata": {},
   "outputs": [
    {
     "data": {
      "text/plain": [
       "[('72998', 0.8848257660865784),\n",
       " ('68358', 0.8839887380599976),\n",
       " ('73017', 0.8820669651031494),\n",
       " ('77561', 0.8750942945480347),\n",
       " ('87232', 0.8638133406639099),\n",
       " ('91529', 0.8604227304458618),\n",
       " ('76093', 0.8578081727027893),\n",
       " ('88125', 0.8553810715675354),\n",
       " ('68954', 0.8546872735023499),\n",
       " ('78499', 0.8543201684951782)]"
      ]
     },
     "execution_count": 26,
     "metadata": {},
     "output_type": "execute_result"
    }
   ],
   "source": [
    "model.wv.most_similar_cosmul(positive=['59315','89745'],topn=10)"
   ]
  },
  {
   "cell_type": "code",
   "execution_count": 27,
   "metadata": {},
   "outputs": [
    {
     "data": {
      "text/html": [
       "<div>\n",
       "<style scoped>\n",
       "    .dataframe tbody tr th:only-of-type {\n",
       "        vertical-align: middle;\n",
       "    }\n",
       "\n",
       "    .dataframe tbody tr th {\n",
       "        vertical-align: top;\n",
       "    }\n",
       "\n",
       "    .dataframe thead th {\n",
       "        text-align: right;\n",
       "    }\n",
       "</style>\n",
       "<table border=\"1\" class=\"dataframe\">\n",
       "  <thead>\n",
       "    <tr style=\"text-align: right;\">\n",
       "      <th></th>\n",
       "      <th>movieId</th>\n",
       "      <th>title</th>\n",
       "      <th>genres</th>\n",
       "    </tr>\n",
       "  </thead>\n",
       "  <tbody>\n",
       "    <tr>\n",
       "      <th>13684</th>\n",
       "      <td>68358</td>\n",
       "      <td>Star Trek (2009)</td>\n",
       "      <td>Action|Adventure|Sci-Fi|IMAX</td>\n",
       "    </tr>\n",
       "    <tr>\n",
       "      <th>13767</th>\n",
       "      <td>68954</td>\n",
       "      <td>Up (2009)</td>\n",
       "      <td>Adventure|Animation|Children|Drama</td>\n",
       "    </tr>\n",
       "    <tr>\n",
       "      <th>14592</th>\n",
       "      <td>72998</td>\n",
       "      <td>Avatar (2009)</td>\n",
       "      <td>Action|Adventure|Sci-Fi|IMAX</td>\n",
       "    </tr>\n",
       "    <tr>\n",
       "      <th>14598</th>\n",
       "      <td>73017</td>\n",
       "      <td>Sherlock Holmes (2009)</td>\n",
       "      <td>Action|Crime|Mystery|Thriller</td>\n",
       "    </tr>\n",
       "    <tr>\n",
       "      <th>15031</th>\n",
       "      <td>76093</td>\n",
       "      <td>How to Train Your Dragon (2010)</td>\n",
       "      <td>Adventure|Animation|Children|Fantasy|IMAX</td>\n",
       "    </tr>\n",
       "    <tr>\n",
       "      <th>15203</th>\n",
       "      <td>77561</td>\n",
       "      <td>Iron Man 2 (2010)</td>\n",
       "      <td>Action|Adventure|Sci-Fi|Thriller|IMAX</td>\n",
       "    </tr>\n",
       "    <tr>\n",
       "      <th>15401</th>\n",
       "      <td>78499</td>\n",
       "      <td>Toy Story 3 (2010)</td>\n",
       "      <td>Adventure|Animation|Children|Comedy|Fantasy|IMAX</td>\n",
       "    </tr>\n",
       "    <tr>\n",
       "      <th>17283</th>\n",
       "      <td>87232</td>\n",
       "      <td>X-Men: First Class (2011)</td>\n",
       "      <td>Action|Adventure|Sci-Fi|Thriller|War</td>\n",
       "    </tr>\n",
       "    <tr>\n",
       "      <th>17499</th>\n",
       "      <td>88125</td>\n",
       "      <td>Harry Potter and the Deathly Hallows: Part 2 (...</td>\n",
       "      <td>Action|Adventure|Drama|Fantasy|Mystery|IMAX</td>\n",
       "    </tr>\n",
       "    <tr>\n",
       "      <th>18312</th>\n",
       "      <td>91529</td>\n",
       "      <td>Dark Knight Rises, The (2012)</td>\n",
       "      <td>Action|Adventure|Crime|IMAX</td>\n",
       "    </tr>\n",
       "  </tbody>\n",
       "</table>\n",
       "</div>"
      ],
      "text/plain": [
       "       movieId                                              title  \\\n",
       "13684    68358                                   Star Trek (2009)   \n",
       "13767    68954                                          Up (2009)   \n",
       "14592    72998                                      Avatar (2009)   \n",
       "14598    73017                             Sherlock Holmes (2009)   \n",
       "15031    76093                    How to Train Your Dragon (2010)   \n",
       "15203    77561                                  Iron Man 2 (2010)   \n",
       "15401    78499                                 Toy Story 3 (2010)   \n",
       "17283    87232                          X-Men: First Class (2011)   \n",
       "17499    88125  Harry Potter and the Deathly Hallows: Part 2 (...   \n",
       "18312    91529                      Dark Knight Rises, The (2012)   \n",
       "\n",
       "                                                 genres  \n",
       "13684                      Action|Adventure|Sci-Fi|IMAX  \n",
       "13767                Adventure|Animation|Children|Drama  \n",
       "14592                      Action|Adventure|Sci-Fi|IMAX  \n",
       "14598                     Action|Crime|Mystery|Thriller  \n",
       "15031         Adventure|Animation|Children|Fantasy|IMAX  \n",
       "15203             Action|Adventure|Sci-Fi|Thriller|IMAX  \n",
       "15401  Adventure|Animation|Children|Comedy|Fantasy|IMAX  \n",
       "17283              Action|Adventure|Sci-Fi|Thriller|War  \n",
       "17499       Action|Adventure|Drama|Fantasy|Mystery|IMAX  \n",
       "18312                       Action|Adventure|Crime|IMAX  "
      ]
     },
     "execution_count": 27,
     "metadata": {},
     "output_type": "execute_result"
    }
   ],
   "source": [
    "df_movies[df_movies['movieId'].isin([72998,68358,73017,77561,87232,91529,76093,88125,68954,78499])]"
   ]
  },
  {
   "cell_type": "markdown",
   "metadata": {},
   "source": [
    "아이언맨과 어벤져스를 좋아하는 사람이 좋아할만한 영화로 스타트랙, 아바타, 아이언맨2, 배트맨 다크나이트 등의 영화가 추천되었다. \n",
    "장르를 보면 액션, 어드밴쳐,SF에 IMAX가 들어간 영화가 많이 추천 되었으며, 거기에 범죄나 스릴러가 추가된 영화가 추천되었다. "
   ]
  },
  {
   "cell_type": "markdown",
   "metadata": {},
   "source": [
    "# 매트릭스를 좋아하지만, 장고:분노의 추적자 영화는 좋아하지 않는 사람에게 영화를 추천"
   ]
  },
  {
   "cell_type": "code",
   "execution_count": 15,
   "metadata": {},
   "outputs": [
    {
     "name": "stdout",
     "output_type": "stream",
     "text": [
      "2571\n",
      "99114\n"
     ]
    }
   ],
   "source": [
    "print(name_to_movieId['Matrix, The (1999)'])\n",
    "print(name_to_movieId['Django Unchained (2012)'])"
   ]
  },
  {
   "cell_type": "code",
   "execution_count": 16,
   "metadata": {},
   "outputs": [
    {
     "data": {
      "text/html": [
       "<div>\n",
       "<style scoped>\n",
       "    .dataframe tbody tr th:only-of-type {\n",
       "        vertical-align: middle;\n",
       "    }\n",
       "\n",
       "    .dataframe tbody tr th {\n",
       "        vertical-align: top;\n",
       "    }\n",
       "\n",
       "    .dataframe thead th {\n",
       "        text-align: right;\n",
       "    }\n",
       "</style>\n",
       "<table border=\"1\" class=\"dataframe\">\n",
       "  <thead>\n",
       "    <tr style=\"text-align: right;\">\n",
       "      <th></th>\n",
       "      <th>movieId</th>\n",
       "      <th>title</th>\n",
       "      <th>genres</th>\n",
       "    </tr>\n",
       "  </thead>\n",
       "  <tbody>\n",
       "    <tr>\n",
       "      <th>2486</th>\n",
       "      <td>2571</td>\n",
       "      <td>Matrix, The (1999)</td>\n",
       "      <td>Action|Sci-Fi|Thriller</td>\n",
       "    </tr>\n",
       "  </tbody>\n",
       "</table>\n",
       "</div>"
      ],
      "text/plain": [
       "      movieId               title                  genres\n",
       "2486     2571  Matrix, The (1999)  Action|Sci-Fi|Thriller"
      ]
     },
     "execution_count": 16,
     "metadata": {},
     "output_type": "execute_result"
    }
   ],
   "source": [
    "w=df_movies['movieId']==2571\n",
    "df_movies[w]"
   ]
  },
  {
   "cell_type": "code",
   "execution_count": 17,
   "metadata": {},
   "outputs": [
    {
     "data": {
      "text/html": [
       "<div>\n",
       "<style scoped>\n",
       "    .dataframe tbody tr th:only-of-type {\n",
       "        vertical-align: middle;\n",
       "    }\n",
       "\n",
       "    .dataframe tbody tr th {\n",
       "        vertical-align: top;\n",
       "    }\n",
       "\n",
       "    .dataframe thead th {\n",
       "        text-align: right;\n",
       "    }\n",
       "</style>\n",
       "<table border=\"1\" class=\"dataframe\">\n",
       "  <thead>\n",
       "    <tr style=\"text-align: right;\">\n",
       "      <th></th>\n",
       "      <th>movieId</th>\n",
       "      <th>title</th>\n",
       "      <th>genres</th>\n",
       "    </tr>\n",
       "  </thead>\n",
       "  <tbody>\n",
       "    <tr>\n",
       "      <th>20124</th>\n",
       "      <td>99114</td>\n",
       "      <td>Django Unchained (2012)</td>\n",
       "      <td>Action|Drama|Western</td>\n",
       "    </tr>\n",
       "  </tbody>\n",
       "</table>\n",
       "</div>"
      ],
      "text/plain": [
       "       movieId                    title                genres\n",
       "20124    99114  Django Unchained (2012)  Action|Drama|Western"
      ]
     },
     "execution_count": 17,
     "metadata": {},
     "output_type": "execute_result"
    }
   ],
   "source": [
    "w=df_movies['movieId']==99114\n",
    "df_movies[w]"
   ]
  },
  {
   "cell_type": "code",
   "execution_count": 32,
   "metadata": {},
   "outputs": [
    {
     "data": {
      "text/plain": [
       "[('8127', 1.2527965307235718),\n",
       " ('43869', 1.248650312423706),\n",
       " ('1777', 1.2409919500350952),\n",
       " ('2628', 1.2373762130737305),\n",
       " ('1580', 1.2372372150421143),\n",
       " ('51698', 1.2303200960159302),\n",
       " ('2683', 1.2249118089675903),\n",
       " ('1210', 1.2213759422302246),\n",
       " ('2617', 1.2209192514419556),\n",
       " ('1196', 1.2206213474273682)]"
      ]
     },
     "execution_count": 32,
     "metadata": {},
     "output_type": "execute_result"
    }
   ],
   "source": [
    "model.wv.most_similar_cosmul(positive=['2571'],negative=['99114'],topn=10)"
   ]
  },
  {
   "cell_type": "code",
   "execution_count": 33,
   "metadata": {},
   "outputs": [
    {
     "data": {
      "text/html": [
       "<div>\n",
       "<style scoped>\n",
       "    .dataframe tbody tr th:only-of-type {\n",
       "        vertical-align: middle;\n",
       "    }\n",
       "\n",
       "    .dataframe tbody tr th {\n",
       "        vertical-align: top;\n",
       "    }\n",
       "\n",
       "    .dataframe thead th {\n",
       "        text-align: right;\n",
       "    }\n",
       "</style>\n",
       "<table border=\"1\" class=\"dataframe\">\n",
       "  <thead>\n",
       "    <tr style=\"text-align: right;\">\n",
       "      <th></th>\n",
       "      <th>movieId</th>\n",
       "      <th>title</th>\n",
       "      <th>genres</th>\n",
       "    </tr>\n",
       "  </thead>\n",
       "  <tbody>\n",
       "    <tr>\n",
       "      <th>1171</th>\n",
       "      <td>1196</td>\n",
       "      <td>Star Wars: Episode V - The Empire Strikes Back...</td>\n",
       "      <td>Action|Adventure|Sci-Fi</td>\n",
       "    </tr>\n",
       "    <tr>\n",
       "      <th>1184</th>\n",
       "      <td>1210</td>\n",
       "      <td>Star Wars: Episode VI - Return of the Jedi (1983)</td>\n",
       "      <td>Action|Adventure|Sci-Fi</td>\n",
       "    </tr>\n",
       "    <tr>\n",
       "      <th>1528</th>\n",
       "      <td>1580</td>\n",
       "      <td>Men in Black (a.k.a. MIB) (1997)</td>\n",
       "      <td>Action|Comedy|Sci-Fi</td>\n",
       "    </tr>\n",
       "    <tr>\n",
       "      <th>1707</th>\n",
       "      <td>1777</td>\n",
       "      <td>Wedding Singer, The (1998)</td>\n",
       "      <td>Comedy|Romance</td>\n",
       "    </tr>\n",
       "    <tr>\n",
       "      <th>2532</th>\n",
       "      <td>2617</td>\n",
       "      <td>Mummy, The (1999)</td>\n",
       "      <td>Action|Adventure|Comedy|Fantasy|Horror|Thriller</td>\n",
       "    </tr>\n",
       "    <tr>\n",
       "      <th>2543</th>\n",
       "      <td>2628</td>\n",
       "      <td>Star Wars: Episode I - The Phantom Menace (1999)</td>\n",
       "      <td>Action|Adventure|Sci-Fi</td>\n",
       "    </tr>\n",
       "    <tr>\n",
       "      <th>2597</th>\n",
       "      <td>2683</td>\n",
       "      <td>Austin Powers: The Spy Who Shagged Me (1999)</td>\n",
       "      <td>Action|Adventure|Comedy</td>\n",
       "    </tr>\n",
       "    <tr>\n",
       "      <th>7659</th>\n",
       "      <td>8127</td>\n",
       "      <td>First $20 Million Is Always the Hardest, The (...</td>\n",
       "      <td>Comedy</td>\n",
       "    </tr>\n",
       "    <tr>\n",
       "      <th>10843</th>\n",
       "      <td>43869</td>\n",
       "      <td>Curious George (2006)</td>\n",
       "      <td>Adventure|Animation|Children|Comedy</td>\n",
       "    </tr>\n",
       "    <tr>\n",
       "      <th>11713</th>\n",
       "      <td>51698</td>\n",
       "      <td>Last Mimzy, The (2007)</td>\n",
       "      <td>Adventure|Children|Sci-Fi</td>\n",
       "    </tr>\n",
       "  </tbody>\n",
       "</table>\n",
       "</div>"
      ],
      "text/plain": [
       "       movieId                                              title  \\\n",
       "1171      1196  Star Wars: Episode V - The Empire Strikes Back...   \n",
       "1184      1210  Star Wars: Episode VI - Return of the Jedi (1983)   \n",
       "1528      1580                   Men in Black (a.k.a. MIB) (1997)   \n",
       "1707      1777                         Wedding Singer, The (1998)   \n",
       "2532      2617                                  Mummy, The (1999)   \n",
       "2543      2628   Star Wars: Episode I - The Phantom Menace (1999)   \n",
       "2597      2683       Austin Powers: The Spy Who Shagged Me (1999)   \n",
       "7659      8127  First $20 Million Is Always the Hardest, The (...   \n",
       "10843    43869                              Curious George (2006)   \n",
       "11713    51698                             Last Mimzy, The (2007)   \n",
       "\n",
       "                                                genres  \n",
       "1171                           Action|Adventure|Sci-Fi  \n",
       "1184                           Action|Adventure|Sci-Fi  \n",
       "1528                              Action|Comedy|Sci-Fi  \n",
       "1707                                    Comedy|Romance  \n",
       "2532   Action|Adventure|Comedy|Fantasy|Horror|Thriller  \n",
       "2543                           Action|Adventure|Sci-Fi  \n",
       "2597                           Action|Adventure|Comedy  \n",
       "7659                                            Comedy  \n",
       "10843              Adventure|Animation|Children|Comedy  \n",
       "11713                        Adventure|Children|Sci-Fi  "
      ]
     },
     "execution_count": 33,
     "metadata": {},
     "output_type": "execute_result"
    }
   ],
   "source": [
    "df_movies[df_movies['movieId'].isin([8127,43869,1777,2628,1580,51698,2683,1210,2617,1196])]"
   ]
  },
  {
   "cell_type": "markdown",
   "metadata": {},
   "source": [
    "매트릭스를 좋아하지만 장고:분노의 추적자를 좋아하지 않은 사람에게 추천된 영화로는 백만장자프로젝트, 스타워즈, 미이라, 맨인블랙 등이 추천 되었다.  \n",
    "장르를 보면, 매트릭스의 SF 장르를 유지시키면서 장고의 서부영화 요소를 제외시키고 코미디 장르를 더하며 연산되어 추천된 것으로 보인다.  \n",
    "본 연구자도 실제로 매트릭스와 함께 맨인블랙과 미이라를 흥미있게 보았다."
   ]
  },
  {
   "cell_type": "markdown",
   "metadata": {},
   "source": [
    "## 모델 성능평가"
   ]
  },
  {
   "cell_type": "markdown",
   "metadata": {},
   "source": [
    "### 학습된 영화 목록 출력"
   ]
  },
  {
   "cell_type": "code",
   "execution_count": 36,
   "metadata": {},
   "outputs": [],
   "source": [
    "#print(model.wv.vocab.keys())"
   ]
  },
  {
   "cell_type": "markdown",
   "metadata": {},
   "source": [
    "## user별로 4점이상 점수를 받은 영화를 positive로 2점 이하로 점수를 받은 영화를 negative로 매핑하여 word2vec 임베딩 후, 연산하여 유사도 기반 상위 5개 영화를 추천하였다."
   ]
  },
  {
   "cell_type": "code",
   "execution_count": 38,
   "metadata": {},
   "outputs": [],
   "source": [
    "def user_liked_movies_builder(model, df, for_prediction=False):\n",
    "    df['liked'] = np.where(df['rating']>=4, 1, 0)\n",
    "    df['movieId'] = df['movieId'].astype('str')\n",
    "    df_liked = df[df['liked']==1]\n",
    "    if for_prediction:\n",
    "        df_liked = df[df['movieId'].isin(model.wv.vocab.keys())]\n",
    "        \n",
    "    user_liked_movies = df_liked.groupby('userId').agg({'movieId': lambda x: x.tolist()})['movieId'].to_dict()\n",
    "    \n",
    "    return user_liked_movies"
   ]
  },
  {
   "cell_type": "code",
   "execution_count": 39,
   "metadata": {},
   "outputs": [],
   "source": [
    "def user_unliked_movies_builder(model, df, for_prediction=False):\n",
    "    df['liked'] = np.where(df['rating']<=2, 1, 0)\n",
    "    df['movieId'] = df['movieId'].astype('str')\n",
    "    df_liked = df[df['liked']==1]\n",
    "    if for_prediction:\n",
    "        df_liked = df[df['movieId'].isin(model.wv.vocab.keys())]\n",
    "        \n",
    "    user_unliked_movies = df_liked.groupby('userId').agg({'movieId': lambda x: x.tolist()})['movieId'].to_dict()\n",
    "    \n",
    "    return user_unliked_movies"
   ]
  },
  {
   "cell_type": "code",
   "execution_count": 40,
   "metadata": {},
   "outputs": [],
   "source": [
    "def scores_at_m (model, user_liked_movies_test, user_liked_movies_training, user_unliked_movies_training, topn=5):\n",
    "   \n",
    "    sum_correct = 0\n",
    "    \n",
    "    common_users = set(user_liked_movies_test.keys()).intersection(set(user_liked_movies_training.keys()))\n",
    "    cnt=0\n",
    "    for userid in common_users:\n",
    "        current_test_set = set(user_liked_movies_test[userid])\n",
    "        pred = [pred_result[0] for pred_result in model.wv.most_similar_cosmul(positive = user_liked_movies_training[userid], \n",
    "                                                                               negative=user_unliked_movies_training[userid], \n",
    "                                                                               topn=topn)]\n",
    "        sum_correct += len(set(pred).intersection(current_test_set))\n",
    "        #print(cnt)\n",
    "        cnt=cnt+1\n",
    "    precision_at_m = sum_correct/(topn*len(common_users))\n",
    "    \n",
    "    return [precision_at_m]"
   ]
  },
  {
   "cell_type": "markdown",
   "metadata": {},
   "source": [
    "## precision 출력"
   ]
  },
  {
   "cell_type": "code",
   "execution_count": null,
   "metadata": {},
   "outputs": [],
   "source": [
    "pd.options.mode.chained_assignment = None\n",
    "user_liked_movies_train = user_liked_movies_builder(model, df_ratings_train, for_prediction=True)\n",
    "user_liked_movies_test = user_liked_movies_builder(model, df_ratings_test)\n",
    "user_unliked_movies_train = user_unliked_movies_builder(model, df_ratings_train, for_prediction=True)\n",
    "\n",
    "\n",
    "\n",
    "\n",
    "\n",
    "model = Word2Vec.load('item2vec')\n",
    "model_score_sg1 = scores_at_m(model, user_liked_movies_test, user_liked_movies_train, user_liked_movies_train)\n",
    "#del model"
   ]
  },
  {
   "cell_type": "code",
   "execution_count": 42,
   "metadata": {},
   "outputs": [
    {
     "name": "stdout",
     "output_type": "stream",
     "text": [
      "precision of this model\n",
      "0.2\n"
     ]
    }
   ],
   "source": [
    "print(\"precision of this model\")\n",
    "print(round(model_score_sg1[0],1))"
   ]
  },
  {
   "cell_type": "markdown",
   "metadata": {},
   "source": [
    "user의 선호에 따라 item2vec 기법을 이용해 영화 추천한 결과,통계적으로추천한 영화 10개 중 2개는 실제로 user가 시청한 것을 확인.  \n",
    "해당 데이터 셋의 경우 90년대 영화부터 00년대 초반까지 time series가 너무 길어 performance가 상대적으로 낮아진 것으로 보임.  \n",
    "최근에는 user가 본 영화를 대상으로 하는것이 아닌, click에 기반한 추천으로 performance를 높이고 있음.  \n",
    "또한 user의 선호가 변할 수 있기 때문에 본 연구처럼 전 기간을 대상으로 할 것이 아니라, 적절한 시점에 구매 목록을 cut-off 시켜 구매\n",
    "목록을 update 해야함"
   ]
  },
  {
   "cell_type": "code",
   "execution_count": null,
   "metadata": {},
   "outputs": [],
   "source": []
  }
 ],
 "metadata": {
  "kernelspec": {
   "display_name": "Python 3",
   "language": "python",
   "name": "python3"
  },
  "language_info": {
   "codemirror_mode": {
    "name": "ipython",
    "version": 3
   },
   "file_extension": ".py",
   "mimetype": "text/x-python",
   "name": "python",
   "nbconvert_exporter": "python",
   "pygments_lexer": "ipython3",
   "version": "3.7.6"
  }
 },
 "nbformat": 4,
 "nbformat_minor": 4
}
